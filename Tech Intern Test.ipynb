{
 "cells": [
  {
   "cell_type": "code",
   "execution_count": 1,
   "metadata": {
    "collapsed": true
   },
   "outputs": [],
   "source": [
    "import pandas as pd"
   ]
  },
  {
   "cell_type": "code",
   "execution_count": 2,
   "metadata": {
    "collapsed": true
   },
   "outputs": [],
   "source": [
    "data = pd.read_excel(\"TechInternQuiz.xlsx\")"
   ]
  },
  {
   "cell_type": "code",
   "execution_count": 3,
   "metadata": {
    "collapsed": false
   },
   "outputs": [
    {
     "data": {
      "text/html": [
       "<div>\n",
       "<table border=\"1\" class=\"dataframe\">\n",
       "  <thead>\n",
       "    <tr style=\"text-align: right;\">\n",
       "      <th></th>\n",
       "      <th>company</th>\n",
       "      <th>team</th>\n",
       "      <th>num_female_eng</th>\n",
       "      <th>num_eng</th>\n",
       "      <th>percent_female_eng</th>\n",
       "      <th>Location</th>\n",
       "      <th>Industry</th>\n",
       "      <th>Unnamed: 7</th>\n",
       "      <th>Unnamed: 8</th>\n",
       "      <th>Unnamed: 9</th>\n",
       "      <th>Unnamed: 10</th>\n",
       "    </tr>\n",
       "  </thead>\n",
       "  <tbody>\n",
       "    <tr>\n",
       "      <th>0</th>\n",
       "      <td>10up</td>\n",
       "      <td>NaN</td>\n",
       "      <td>8</td>\n",
       "      <td>67</td>\n",
       "      <td>11.94</td>\n",
       "      <td>London</td>\n",
       "      <td>Fintech</td>\n",
       "      <td>NaN</td>\n",
       "      <td>NaN</td>\n",
       "      <td>NaN</td>\n",
       "      <td>NaN</td>\n",
       "    </tr>\n",
       "    <tr>\n",
       "      <th>1</th>\n",
       "      <td>1up talent</td>\n",
       "      <td>NaN</td>\n",
       "      <td>0</td>\n",
       "      <td>2</td>\n",
       "      <td>0.00</td>\n",
       "      <td>London</td>\n",
       "      <td>Healthtech</td>\n",
       "      <td>NaN</td>\n",
       "      <td>NaN</td>\n",
       "      <td>NaN</td>\n",
       "      <td>NaN</td>\n",
       "    </tr>\n",
       "    <tr>\n",
       "      <th>2</th>\n",
       "      <td>7digital</td>\n",
       "      <td>NaN</td>\n",
       "      <td>1</td>\n",
       "      <td>21</td>\n",
       "      <td>4.76</td>\n",
       "      <td>New York City</td>\n",
       "      <td>E-commerce</td>\n",
       "      <td>NaN</td>\n",
       "      <td>NaN</td>\n",
       "      <td>NaN</td>\n",
       "      <td>NaN</td>\n",
       "    </tr>\n",
       "    <tr>\n",
       "      <th>3</th>\n",
       "      <td>Activision</td>\n",
       "      <td>NaN</td>\n",
       "      <td>1</td>\n",
       "      <td>30</td>\n",
       "      <td>3.33</td>\n",
       "      <td>San diego</td>\n",
       "      <td>Electronics and components</td>\n",
       "      <td>NaN</td>\n",
       "      <td>NaN</td>\n",
       "      <td>NaN</td>\n",
       "      <td>FYI: the data on the statistics of tech compan...</td>\n",
       "    </tr>\n",
       "    <tr>\n",
       "      <th>4</th>\n",
       "      <td>Addepar</td>\n",
       "      <td>NaN</td>\n",
       "      <td>1</td>\n",
       "      <td>29</td>\n",
       "      <td>3.45</td>\n",
       "      <td>San Diego</td>\n",
       "      <td>FinTech</td>\n",
       "      <td>NaN</td>\n",
       "      <td>NaN</td>\n",
       "      <td>NaN</td>\n",
       "      <td>NaN</td>\n",
       "    </tr>\n",
       "  </tbody>\n",
       "</table>\n",
       "</div>"
      ],
      "text/plain": [
       "      company team  num_female_eng  num_eng  percent_female_eng  \\\n",
       "0        10up  NaN               8       67               11.94   \n",
       "1  1up talent  NaN               0        2                0.00   \n",
       "2    7digital  NaN               1       21                4.76   \n",
       "3  Activision  NaN               1       30                3.33   \n",
       "4     Addepar  NaN               1       29                3.45   \n",
       "\n",
       "        Location                    Industry  Unnamed: 7  Unnamed: 8  \\\n",
       "0         London                     Fintech         NaN         NaN   \n",
       "1         London                  Healthtech         NaN         NaN   \n",
       "2  New York City                  E-commerce         NaN         NaN   \n",
       "3      San diego  Electronics and components         NaN         NaN   \n",
       "4      San Diego                     FinTech         NaN         NaN   \n",
       "\n",
       "   Unnamed: 9                                        Unnamed: 10  \n",
       "0         NaN                                                NaN  \n",
       "1         NaN                                                NaN  \n",
       "2         NaN                                                NaN  \n",
       "3         NaN  FYI: the data on the statistics of tech compan...  \n",
       "4         NaN                                                NaN  "
      ]
     },
     "execution_count": 3,
     "metadata": {},
     "output_type": "execute_result"
    }
   ],
   "source": [
    "data.head()"
   ]
  },
  {
   "cell_type": "code",
   "execution_count": 11,
   "metadata": {
    "collapsed": false
   },
   "outputs": [],
   "source": [
    "companies = []\n",
    "for i in range(0,len(data)):\n",
    "    if data.percent_female_eng[i] < 15:\n",
    "        companies.append(data.company[i])\n",
    "        "
   ]
  },
  {
   "cell_type": "code",
   "execution_count": 13,
   "metadata": {
    "collapsed": false
   },
   "outputs": [],
   "source": [
    "companies = map(lambda s: s.encode(\"utf-8\"), companies)"
   ]
  },
  {
   "cell_type": "code",
   "execution_count": 14,
   "metadata": {
    "collapsed": false
   },
   "outputs": [
    {
     "data": {
      "text/plain": [
       "['10up',\n",
       " '1up talent',\n",
       " '7digital',\n",
       " 'Activision',\n",
       " 'Addepar',\n",
       " 'AdRoll',\n",
       " 'AeroFS',\n",
       " 'Airbnb',\n",
       " 'Apartment List',\n",
       " 'appssavvy',\n",
       " 'Asana',\n",
       " 'Automattic',\n",
       " 'Basecamp',\n",
       " 'Bendyworks',\n",
       " 'Birchbox',\n",
       " 'Birst',\n",
       " 'Brigade',\n",
       " 'Capsher Technology',\n",
       " 'charity water',\n",
       " 'Checkout 51',\n",
       " 'Circa',\n",
       " 'circl, Brooklyn',\n",
       " 'CirrusMio',\n",
       " 'Codecademy',\n",
       " 'Codurance, London',\n",
       " 'Cognitect',\n",
       " 'Coinbase',\n",
       " 'Collective IDea',\n",
       " 'Coursera',\n",
       " 'creativeLIVE',\n",
       " 'Delphix',\n",
       " 'Disqus',\n",
       " 'doxo',\n",
       " 'DramaFever',\n",
       " 'Dropbox',\n",
       " 'Edmodo',\n",
       " 'Elemental Technologies',\n",
       " 'Ellation (fka Crunchyroll)',\n",
       " 'Etsy',\n",
       " 'Facebook',\n",
       " 'FirstWatch Solutions',\n",
       " 'Flatiron Health',\n",
       " 'Flipboard',\n",
       " 'Fog Creek Software',\n",
       " 'foursquare',\n",
       " 'GameChanger.io',\n",
       " 'Gilt',\n",
       " 'GitHub',\n",
       " 'Goldbely',\n",
       " 'Guidebook',\n",
       " 'Harvest',\n",
       " 'Headspring',\n",
       " 'Hipmunk',\n",
       " 'HootSuite',\n",
       " 'HubSpot',\n",
       " 'Imgur',\n",
       " 'Inductive Automation',\n",
       " 'Inkling',\n",
       " 'Intercom',\n",
       " 'Kaon Interactive, Inc.',\n",
       " 'Keen IO',\n",
       " 'Kiva',\n",
       " 'Learnist',\n",
       " 'Liferay',\n",
       " 'Lola',\n",
       " 'Lookout',\n",
       " 'Massdrop',\n",
       " 'Minted',\n",
       " 'Moontoast',\n",
       " 'Mozilla',\n",
       " 'Narrative Science',\n",
       " 'Nearsoft, Inc.',\n",
       " 'New Bamboo, London',\n",
       " 'Nextdoor',\n",
       " 'Optimizely',\n",
       " 'Outpace Systems',\n",
       " 'PagerDuty',\n",
       " 'Paperless Post',\n",
       " 'Patreon',\n",
       " 'PayPal',\n",
       " 'Perforce',\n",
       " 'PolicyStat',\n",
       " 'Qstream',\n",
       " 'Qualcomm',\n",
       " 'Quantcast',\n",
       " 'Quora',\n",
       " 'Reddit',\n",
       " 'Reverb',\n",
       " 'SalesforceIQ',\n",
       " 'Selerity',\n",
       " 'Shift',\n",
       " 'Shopatron',\n",
       " 'shopkick',\n",
       " 'Shyp',\n",
       " 'Sifteo',\n",
       " 'Sosh',\n",
       " 'Stack Overflow',\n",
       " 'StackMob',\n",
       " 'Stratasan',\n",
       " 'Stripe',\n",
       " 'Tapad',\n",
       " 'The New York Times',\n",
       " 'The Playforge',\n",
       " 'The Washington Post',\n",
       " 'thoughtbot',\n",
       " 'Topix',\n",
       " 'Treehouse',\n",
       " 'TuneIn',\n",
       " 'Udacity',\n",
       " 'uSwitch, London',\n",
       " 'Vungle',\n",
       " 'Watsi',\n",
       " 'Webkite',\n",
       " 'Wikimedia Foundation',\n",
       " 'Yahoo',\n",
       " 'Yelp',\n",
       " 'Zendesk',\n",
       " 'Zerocater']"
      ]
     },
     "execution_count": 14,
     "metadata": {},
     "output_type": "execute_result"
    }
   ],
   "source": [
    "companies"
   ]
  },
  {
   "cell_type": "code",
   "execution_count": null,
   "metadata": {
    "collapsed": true
   },
   "outputs": [],
   "source": []
  }
 ],
 "metadata": {
  "anaconda-cloud": {},
  "kernelspec": {
   "display_name": "Python [default]",
   "language": "python",
   "name": "python2"
  },
  "language_info": {
   "codemirror_mode": {
    "name": "ipython",
    "version": 2
   },
   "file_extension": ".py",
   "mimetype": "text/x-python",
   "name": "python",
   "nbconvert_exporter": "python",
   "pygments_lexer": "ipython2",
   "version": "2.7.12"
  }
 },
 "nbformat": 4,
 "nbformat_minor": 1
}
